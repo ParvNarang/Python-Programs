{
 "metadata": {
  "language_info": {
   "codemirror_mode": {
    "name": "ipython",
    "version": 3
   },
   "file_extension": ".py",
   "mimetype": "text/x-python",
   "name": "python",
   "nbconvert_exporter": "python",
   "pygments_lexer": "ipython3",
   "version": "3.9.1"
  },
  "orig_nbformat": 2,
  "kernelspec": {
   "name": "python391jvsc74a57bd07812ea015bdcee6f23a998adcdd2ef97c151c0c241b7b7070987d9313e41299d",
   "display_name": "Python 3.9.1 64-bit"
  },
  "metadata": {
   "interpreter": {
    "hash": "7812ea015bdcee6f23a998adcdd2ef97c151c0c241b7b7070987d9313e41299d"
   }
  }
 },
 "nbformat": 4,
 "nbformat_minor": 2,
 "cells": [
  {
   "cell_type": "code",
   "execution_count": 7,
   "metadata": {},
   "outputs": [
    {
     "output_type": "execute_result",
     "data": {
      "text/plain": [
       "6"
      ]
     },
     "metadata": {},
     "execution_count": 7
    }
   ],
   "source": [
    "def sumoflist(n):\n",
    "    if len(n) == 0:\n",
    "        return 0\n",
    "    else:\n",
    "        return n[0] + sumoflist(n[1:])\n",
    "\n",
    "n = [1,2,3]\n",
    "sumoflist(n)"
   ]
  },
  {
   "cell_type": "code",
   "execution_count": 8,
   "metadata": {},
   "outputs": [
    {
     "output_type": "execute_result",
     "data": {
      "text/plain": [
       "[6, 12, 67, 432]"
      ]
     },
     "metadata": {},
     "execution_count": 8
    }
   ],
   "source": [
    "def bubble(n):\n",
    "    if len(n) == 1:\n",
    "        return n\n",
    "    else:\n",
    "        for i in range(len(n)-1):\n",
    "            for j in range(len(n)-1):\n",
    "                if n[j]>n[j+1]:\n",
    "                    n[j],n[j+1] = n[j+1],n[j]\n",
    "    return bubble(n[:-1]) + [n[-1]]\n",
    "\n",
    "n = [432,6,12,67]\n",
    "bubble(n)"
   ]
  },
  {
   "cell_type": "code",
   "execution_count": 7,
   "metadata": {},
   "outputs": [
    {
     "output_type": "execute_result",
     "data": {
      "text/plain": [
       "6"
      ]
     },
     "metadata": {},
     "execution_count": 7
    }
   ],
   "source": [
    "#### RECURSIVE FACTORIAL\n",
    "\n",
    "def fac(n):\n",
    "    if n<0:\n",
    "        return -1\n",
    "    elif n<2:\n",
    "        return 1\n",
    "    else:\n",
    "        return n * fac(n-1)\n",
    "\n",
    "n = 3\n",
    "fac(n)"
   ]
  },
  {
   "cell_type": "code",
   "execution_count": 9,
   "metadata": {},
   "outputs": [
    {
     "output_type": "execute_result",
     "data": {
      "text/plain": [
       "120"
      ]
     },
     "metadata": {},
     "execution_count": 9
    }
   ],
   "source": [
    "### ITERATIVE FACTORIAL\n",
    "\n",
    "def it_fac(n):\n",
    "    if n<0:\n",
    "        return -1\n",
    "    else:\n",
    "        f = 1\n",
    "        for i in range(1,n+1):\n",
    "            f *= i\n",
    "        return f\n",
    "\n",
    "it_fac(5)"
   ]
  },
  {
   "cell_type": "code",
   "execution_count": 11,
   "metadata": {},
   "outputs": [
    {
     "output_type": "stream",
     "name": "stdout",
     "text": [
      "9\n"
     ]
    }
   ],
   "source": [
    "#### RECUrSION VOWEL FINDER\n",
    "v = 'aeiou'\n",
    "def als(st):\n",
    "    if st == '':\n",
    "        return 0\n",
    "    if st[0].lower() in v:\n",
    "        return 1 + als(st[1:])\n",
    "    else:\n",
    "        return als(st[1:])\n",
    "st = \"AAAAAAALOLOL\"\n",
    "print(als(st))"
   ]
  },
  {
   "cell_type": "code",
   "execution_count": 26,
   "metadata": {
    "tags": []
   },
   "outputs": [
    {
     "output_type": "stream",
     "name": "stdout",
     "text": [
      "0\n1\n1\n2\n3\n5\n8\n13\n"
     ]
    }
   ],
   "source": [
    "##### RECURSIVE FIBONACCI \n",
    "def fb(n):\n",
    "    if n<=1:\n",
    "        return n\n",
    "    else:\n",
    "        return(fb(n-1)+fb(n-2))\n",
    "\n",
    "nt = int(input(\"Enter the no. of terms = \"))\n",
    "\n",
    "for i in range(nt):\n",
    "    print(fb(i))"
   ]
  },
  {
   "cell_type": "code",
   "execution_count": null,
   "metadata": {},
   "outputs": [],
   "source": []
  }
 ]
}