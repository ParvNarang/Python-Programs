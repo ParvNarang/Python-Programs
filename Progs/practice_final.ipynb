{
 "metadata": {
  "language_info": {
   "codemirror_mode": {
    "name": "ipython",
    "version": 3
   },
   "file_extension": ".py",
   "mimetype": "text/x-python",
   "name": "python",
   "nbconvert_exporter": "python",
   "pygments_lexer": "ipython3",
   "version": "3.9.1-final"
  },
  "orig_nbformat": 2,
  "kernelspec": {
   "name": "python3",
   "display_name": "Python 3.9.1 64-bit",
   "metadata": {
    "interpreter": {
     "hash": "aee8b7b246df8f9039afb4144a1f6fd8d2ca17a180786b69acc140d282b71a49"
    }
   }
  }
 },
 "nbformat": 4,
 "nbformat_minor": 2,
 "cells": [
  {
   "cell_type": "code",
   "execution_count": 51,
   "metadata": {},
   "outputs": [
    {
     "output_type": "stream",
     "name": "stdout",
     "text": [
      "Finals\n<class 'str'> <class 'int'> <class 'float'> <class 'list'> <class 'tuple'> <class 'dict'> <class 'bool'> <class 'complex'> <class 'set'>\n"
     ]
    }
   ],
   "source": [
    "print(\"Finals\")\n",
    "r = \"sadjdsa\"\n",
    "e = 213\n",
    "g = 23.23\n",
    "x = []\n",
    "v = ()\n",
    "a = {}\n",
    "q = True\n",
    "l = 45 + 4j\n",
    "u = set()\n",
    "print(type(r),type(e),type(g),type(x),type(v),type(a),type(q),type(l),type(u)) "
   ]
  },
  {
   "cell_type": "code",
   "execution_count": 12,
   "metadata": {},
   "outputs": [
    {
     "output_type": "stream",
     "name": "stdout",
     "text": [
      "\n1 1 2 3 5 8 13 "
     ]
    }
   ],
   "source": [
    "#####FIBONACCCI##################\n",
    "n = int(input(\"Enter how many more numbers of FIBO\"))\n",
    "a = 1\n",
    "b = 1\n",
    "print()\n",
    "print(a,b,end=\" \")\n",
    "for i in range(1,n+1):\n",
    "    c = a + b\n",
    "    print(c,end=\" \")\n",
    "    a, b = b, c"
   ]
  },
  {
   "cell_type": "code",
   "execution_count": 30,
   "metadata": {},
   "outputs": [
    {
     "output_type": "stream",
     "name": "stdout",
     "text": [
      "9\n"
     ]
    },
    {
     "output_type": "execute_result",
     "data": {
      "text/plain": [
       "'uter'"
      ]
     },
     "metadata": {},
     "execution_count": 30
    }
   ],
   "source": [
    "######SLICING\n",
    "s = \"computers\"\n",
    "print(len(s))\n",
    "s[4:8]"
   ]
  },
  {
   "cell_type": "code",
   "execution_count": 65,
   "metadata": {},
   "outputs": [
    {
     "output_type": "stream",
     "name": "stdout",
     "text": [
      "goglescomputers\n9\n6\n0.67\nhello this is VS\n16\nhello\n"
     ]
    }
   ],
   "source": [
    "f = \"gogles\"\n",
    "print(f+s)\n",
    "print(len(s))\n",
    "print(len(f))\n",
    "print(round(len(f)/len(s),2))\n",
    "\n",
    "pt = \"hello this is VS\"\n",
    "print(pt)\n",
    "print(len(pt))\n",
    "print(pt[0:5])"
   ]
  },
  {
   "cell_type": "code",
   "execution_count": 74,
   "metadata": {},
   "outputs": [
    {
     "output_type": "stream",
     "name": "stdout",
     "text": [
      "<class 'set'>\n{'C', 'O', 'V', 'E', 'D', 'S'}\nC O V D E S "
     ]
    }
   ],
   "source": [
    "s = set(\"VSCODE\")\n",
    "print(type(s))\n",
    "print(s)\n",
    "for i in set(s):\n",
    "    print(i ,end=\" \")"
   ]
  },
  {
   "cell_type": "code",
   "execution_count": 76,
   "metadata": {},
   "outputs": [
    {
     "output_type": "stream",
     "name": "stdout",
     "text": [
      "[12, 21, 23, 34, 43]\nSecond largest number is =  34\n"
     ]
    }
   ],
   "source": [
    "####TO CALCULATE 2nd LARGEST DIGIT\n",
    "l = []\n",
    "n = int(input(\"Enter the number of elements\"))\n",
    "for i in range(1,n+1):\n",
    "    num = int(input(\"Enter elements\"))\n",
    "    l.append(num)\n",
    "l.sort()\n",
    "print(l)\n",
    "print(\"Second largest number is = \",l[-2])"
   ]
  },
  {
   "cell_type": "code",
   "execution_count": 7,
   "metadata": {},
   "outputs": [
    {
     "output_type": "stream",
     "name": "stdout",
     "text": [
      "ODD LIST =  [23, 45, 23, 23]\nNO. of Odd Elements =  4\nSUM OF ODD LIST =  114\n"
     ]
    }
   ],
   "source": [
    "######## ADD ODD NUMBERS #####################\n",
    "l = [23,324,45,23,6,23]\n",
    "l1 = []\n",
    "count = 0\n",
    "for i in l:\n",
    "    if i%2!=0:\n",
    "        l1.append(i)\n",
    "        count+=1\n",
    "print(\"ODD LIST = \",l1)\n",
    "print(\"NO. of Odd Elements = \",count)\n",
    "f = 0\n",
    "for j in range(len(l1)):\n",
    "    f+=l1[j]\n",
    "print(\"SUM OF ODD LIST = \",f)"
   ]
  },
  {
   "cell_type": "code",
   "execution_count": 7,
   "metadata": {},
   "outputs": [
    {
     "output_type": "stream",
     "name": "stdout",
     "text": [
      "Factorial of  6 is 720\n"
     ]
    }
   ],
   "source": [
    "############### FACTORIAL #####################\n",
    "n = int(input(\"Enter number\"))\n",
    "result = 1 \n",
    "num = n\n",
    "while n>0:\n",
    "    result*=n\n",
    "    n-=1\n",
    "f = result\n",
    "print(\"Factorial of \",num,\"is\",f)"
   ]
  },
  {
   "cell_type": "code",
   "execution_count": 13,
   "metadata": {},
   "outputs": [
    {
     "output_type": "stream",
     "name": "stdout",
     "text": [
      "62 is greatest\n"
     ]
    }
   ],
   "source": [
    "############ COMPARISON ####################\n",
    "a = 5\n",
    "b = 12\n",
    "c = 62\n",
    "if a>b:\n",
    "    if a>c:\n",
    "        print(a,\"is greatest\")\n",
    "    else:\n",
    "        print(c,\"is greatest\")\n",
    "else:\n",
    "    if b>c:\n",
    "        print(b,\"is greatest\")\n",
    "    else:\n",
    "        print(c,\"is greatest\")"
   ]
  },
  {
   "cell_type": "code",
   "execution_count": 57,
   "metadata": {},
   "outputs": [
    {
     "output_type": "stream",
     "name": "stdout",
     "text": [
      "\n\n1 \n2 3 \n4 5 6 \n7 8 9 10 "
     ]
    }
   ],
   "source": [
    "######### PATTERNS ###########\n",
    "#1)\n",
    "n = 1\n",
    "for i in range(5):\n",
    "    print()\n",
    "    for j in range(i):\n",
    "        #print(i)\n",
    "        #print(j)\n",
    "        print(n, end=\" \")\n",
    "        n+=1"
   ]
  },
  {
   "cell_type": "code",
   "execution_count": 61,
   "metadata": {},
   "outputs": [
    {
     "output_type": "stream",
     "name": "stdout",
     "text": [
      "\n\n1 \n2 2 \n3 3 3 \n4 4 4 4 \n5 5 5 5 5 \n6 6 6 6 6 6 "
     ]
    }
   ],
   "source": [
    "#2)\n",
    "n = 6\n",
    "for i in range(n+1):\n",
    "    print()\n",
    "    for j in range(i):\n",
    "        print(i, end=\" \")"
   ]
  },
  {
   "cell_type": "code",
   "execution_count": 25,
   "metadata": {},
   "outputs": [
    {
     "output_type": "stream",
     "name": "stdout",
     "text": [
      "\n\n* \n* * \n* * * \n* * * * \n* * * * * "
     ]
    }
   ],
   "source": [
    "#3)\n",
    "n = int(input(\"Enter number of rows\"))\n",
    "for x in range(n+1):\n",
    "    print()\n",
    "    for j in range(x):\n",
    "        print(\"*\", end=\" \")"
   ]
  },
  {
   "cell_type": "code",
   "execution_count": 26,
   "metadata": {},
   "outputs": [
    {
     "output_type": "stream",
     "name": "stdout",
     "text": [
      "\n* * * * * \n* * * * \n* * * \n* * \n* "
     ]
    }
   ],
   "source": [
    "#4)\n",
    "n = int(input(\"Enter number of rows\"))\n",
    "for x in range(n, 0, -1):\n",
    "    print()\n",
    "    for y in range(x):\n",
    "        print(\"*\", end=\" \")"
   ]
  },
  {
   "cell_type": "code",
   "execution_count": 62,
   "metadata": {},
   "outputs": [
    {
     "output_type": "stream",
     "name": "stdout",
     "text": [
      "\n3 3 3 \n4 4 4 4 \n5 5 5 5 5 "
     ]
    }
   ],
   "source": [
    "#5)\n",
    "u = input()\n",
    "for a in u:\n",
    "\tprint()\n",
    "\tfor i in range(int(a)):\n",
    "\t\tprint(a, end =\" \")"
   ]
  },
  {
   "cell_type": "code",
   "execution_count": 68,
   "metadata": {},
   "outputs": [
    {
     "output_type": "stream",
     "name": "stdout",
     "text": [
      "P\nPy\nPyt\nPyth\nPytho\nPython\n"
     ]
    }
   ],
   "source": [
    "word = \"Python\"\n",
    "x = \"\"\n",
    "for i in word:\n",
    "    x += i\n",
    "    print(x)"
   ]
  },
  {
   "cell_type": "code",
   "execution_count": 66,
   "metadata": {},
   "outputs": [
    {
     "output_type": "stream",
     "name": "stdout",
     "text": [
      "\n1 \n1 2 \n1 2 3 \n1 2 3 4 \n1 2 3 4 5 "
     ]
    }
   ],
   "source": [
    "n = 5\n",
    "for i in range(1, n+1):\n",
    "    print()\n",
    "    for j in range(1, i + 1):\n",
    "        print(j, end=' ')"
   ]
  },
  {
   "cell_type": "code",
   "execution_count": 51,
   "metadata": {},
   "outputs": [
    {
     "output_type": "stream",
     "name": "stdout",
     "text": [
      "yneoso"
     ]
    }
   ],
   "source": [
    "x = 'yes'\n",
    "y = 'noo'\n",
    "for i in range(len(x)):\n",
    "    print(x[i]+y[i],end=\"\")"
   ]
  },
  {
   "cell_type": "code",
   "execution_count": 52,
   "metadata": {},
   "outputs": [
    {
     "output_type": "stream",
     "name": "stdout",
     "text": [
      "h - e - l - l - o - "
     ]
    }
   ],
   "source": [
    "name=\"hello\"\n",
    "for ch in name:\n",
    "    print(ch,'-',end=' ')"
   ]
  },
  {
   "cell_type": "code",
   "execution_count": 53,
   "metadata": {},
   "outputs": [
    {
     "output_type": "error",
     "ename": "ValueError",
     "evalue": "invalid literal for int() with base 10: ''",
     "traceback": [
      "\u001b[0;31m---------------------------------------------------------------------------\u001b[0m",
      "\u001b[0;31mValueError\u001b[0m                                Traceback (most recent call last)",
      "\u001b[0;32m<ipython-input-53-661335d026db>\u001b[0m in \u001b[0;36m<module>\u001b[0;34m\u001b[0m\n\u001b[1;32m      5\u001b[0m     \u001b[0;32mif\u001b[0m \u001b[0mi\u001b[0m\u001b[0;34m.\u001b[0m\u001b[0misdigit\u001b[0m\u001b[0;34m(\u001b[0m\u001b[0;34m)\u001b[0m \u001b[0;34m:\u001b[0m\u001b[0;34m\u001b[0m\u001b[0;34m\u001b[0m\u001b[0m\n\u001b[1;32m      6\u001b[0m         \u001b[0mdigit\u001b[0m \u001b[0;34m+=\u001b[0m \u001b[0mi\u001b[0m\u001b[0;34m\u001b[0m\u001b[0;34m\u001b[0m\u001b[0m\n\u001b[0;32m----> 7\u001b[0;31m \u001b[0ma\u001b[0m \u001b[0;34m=\u001b[0m \u001b[0mint\u001b[0m\u001b[0;34m(\u001b[0m\u001b[0mdigit\u001b[0m\u001b[0;34m)\u001b[0m\u001b[0;34m\u001b[0m\u001b[0;34m\u001b[0m\u001b[0m\n\u001b[0m\u001b[1;32m      8\u001b[0m \u001b[0mprint\u001b[0m\u001b[0;34m(\u001b[0m\u001b[0mnum\u001b[0m\u001b[0;34m,\u001b[0m \u001b[0;34m\",\"\u001b[0m\u001b[0;34m,\u001b[0m \u001b[0mword\u001b[0m\u001b[0;34m,\u001b[0m \u001b[0;34m\"->\"\u001b[0m\u001b[0;34m,\u001b[0m \u001b[0mnum\u001b[0m\u001b[0;34m,\u001b[0m \u001b[0;34m\"+\"\u001b[0m\u001b[0;34m,\u001b[0m \u001b[0mdigit\u001b[0m\u001b[0;34m,\u001b[0m \u001b[0;34m\"=\"\u001b[0m\u001b[0;34m,\u001b[0m \u001b[0mnum\u001b[0m \u001b[0;34m+\u001b[0m \u001b[0ma\u001b[0m\u001b[0;34m)\u001b[0m\u001b[0;34m\u001b[0m\u001b[0;34m\u001b[0m\u001b[0m\n",
      "\u001b[0;31mValueError\u001b[0m: invalid literal for int() with base 10: ''"
     ]
    }
   ],
   "source": [
    "num = int(input(\"enter an integer = \"))\n",
    "word = input(\"enter an string =  \")\n",
    "digit = \"\"\n",
    "for i in word:\n",
    "    if i.isdigit():\n",
    "        digit += i\n",
    "a = int(digit)\n",
    "print(num, \",\", word, \"->\", num, \"+\", digit, \"=\", num + a)"
   ]
  },
  {
   "cell_type": "code",
   "execution_count": 54,
   "metadata": {},
   "outputs": [
    {
     "output_type": "stream",
     "name": "stdout",
     "text": [
      "number of words are 2\nnumber_of_characters are 11\npercentage of characters that are alphanumric is 90.9090909090909 %\n"
     ]
    }
   ],
   "source": [
    "s = input(\"Enter a sentence : \")\n",
    "number_of_words = 1\n",
    "number_of_characters = len(s)\n",
    "al_num = 0\n",
    "for i in s:\n",
    "    if i.isalnum():\n",
    "        al_num += 1\n",
    "    if i == ' ': # there is a space means there is another word \n",
    "        number_of_words += 1\n",
    "print(\"number of words are\", number_of_words)\n",
    "print(\"number_of_characters are\", number_of_characters)\n",
    "print(\"percentage of characters that are alphanumric is\", al_num*100/len(s), '%')"
   ]
  },
  {
   "cell_type": "code",
   "execution_count": 8,
   "metadata": {},
   "outputs": [
    {
     "output_type": "stream",
     "name": "stdout",
     "text": [
      "PRIME\n"
     ]
    }
   ],
   "source": [
    "################ PRIME NUMBER ###################\n",
    "n = int(input(\"ENTER NUMBER TO CHECK - \"))\n",
    "if n>1:\n",
    "    for i in range(2,n):\n",
    "        if n%i==0:\n",
    "            print(\"NOT PRIME\")\n",
    "            break\n",
    "    else:\n",
    "        print(\"PRIME\")\n",
    "else:\n",
    "    print(\"NOT PRIME\")"
   ]
  },
  {
   "cell_type": "code",
   "execution_count": 9,
   "metadata": {},
   "outputs": [
    {
     "output_type": "stream",
     "name": "stdout",
     "text": [
      "r-uiy\n"
     ]
    }
   ],
   "source": [
    "x = input(\"Enter String\")\n",
    "for i in x:\n",
    "    if i == \" \":\n",
    "        y = x.replace(\" \",\"-\")\n",
    "print(y)"
   ]
  },
  {
   "cell_type": "code",
   "execution_count": 18,
   "metadata": {},
   "outputs": [
    {
     "output_type": "stream",
     "name": "stdout",
     "text": [
      "No. of Vowels are =  4\n"
     ]
    }
   ],
   "source": [
    "###################### VOWEL CHECK #################\n",
    "sen = input(\"Enter sentence\")\n",
    "y = ['a','e','i','o','u']\n",
    "count = 0\n",
    "for ch in sen:\n",
    "    if ch in y:\n",
    "        count+=1\n",
    "if count>0:\n",
    "    print(\"No. of Vowels are = \",count)\n",
    "else:\n",
    "    print(\"No Vowels\")"
   ]
  },
  {
   "cell_type": "code",
   "execution_count": 23,
   "metadata": {},
   "outputs": [
    {
     "output_type": "stream",
     "name": "stdout",
     "text": [
      "t r e "
     ]
    }
   ],
   "source": [
    "######### REVERSE STRINGS ###############\n",
    "s = input(\"\")\n",
    "l = len(s)\n",
    "for i in range(-1,-l-1,-1):\n",
    "    print(s[i],end=\" \")"
   ]
  },
  {
   "cell_type": "code",
   "execution_count": 29,
   "metadata": {},
   "outputs": [
    {
     "output_type": "stream",
     "name": "stdout",
     "text": [
      "Yes\n"
     ]
    }
   ],
   "source": [
    "############ PALINDROME ###############\n",
    "s = input(\"\")\n",
    "l = len(s)\n",
    "mid = l//2\n",
    "rev = -1\n",
    "for a in range(mid):\n",
    "    if s[a] == s[rev]:\n",
    "        a+=1\n",
    "        rev-=1\n",
    "    else:\n",
    "        print(\"NO\")\n",
    "        break\n",
    "else:\n",
    "    print(\"Yes\")"
   ]
  },
  {
   "cell_type": "code",
   "execution_count": 30,
   "metadata": {},
   "outputs": [
    {
     "output_type": "stream",
     "name": "stdout",
     "text": [
      "[3, 24, 56, 78, 3, 56, 23]\n"
     ]
    }
   ],
   "source": [
    "l1 = [3,24,56,56]\n",
    "l2 = [78,3,56,23]\n",
    "l1[-1:]= l2\n",
    "print(l1)"
   ]
  },
  {
   "cell_type": "code",
   "execution_count": 31,
   "metadata": {},
   "outputs": [
    {
     "output_type": "stream",
     "name": "stdout",
     "text": [
      "dasa\n"
     ]
    }
   ],
   "source": [
    "a = input(\"\")\n",
    "c = a[0]\n",
    "a = a.replace(c,'$')\n",
    "a = c + a[1:]\n",
    "print(a)"
   ]
  },
  {
   "cell_type": "code",
   "execution_count": 34,
   "metadata": {},
   "outputs": [
    {
     "output_type": "stream",
     "name": "stdout",
     "text": [
      "ARM\n"
     ]
    }
   ],
   "source": [
    "################# ARMSTRONG NUMBER ####################\n",
    "n = int(input())\n",
    "num = n\n",
    "result = 0 \n",
    "l = len(str(n))\n",
    "while n!=0:\n",
    "    f = n%10\n",
    "    result+=f**l\n",
    "    n = n//10\n",
    "if num == result:\n",
    "    print(\"ARMSTRONG\")\n",
    "else:\n",
    "    print(\"NOT\")"
   ]
  },
  {
   "cell_type": "code",
   "execution_count": 39,
   "metadata": {},
   "outputs": [
    {
     "output_type": "stream",
     "name": "stdout",
     "text": [
      "NO\n"
     ]
    }
   ],
   "source": [
    "#################### AUTOMORPHIC NUMBER ########################\n",
    "n = int(input())\n",
    "sq = n*n\n",
    "k = len(str(n))\n",
    "last = int(str(sq)[-k:])\n",
    "if last==n:\n",
    "    print(\"AUTO\")\n",
    "else:\n",
    "    print(\"NO\")"
   ]
  },
  {
   "cell_type": "code",
   "execution_count": 41,
   "metadata": {},
   "outputs": [
    {
     "output_type": "stream",
     "name": "stdout",
     "text": [
      "YES\n"
     ]
    }
   ],
   "source": [
    "####################### PERFECT NUMBER ##################\n",
    "n = int(input())\n",
    "result = 0\n",
    "for i in range(1,n):\n",
    "    if n%i==0:\n",
    "        result = result + i\n",
    "if result == n:\n",
    "    print(\"YES\")"
   ]
  },
  {
   "cell_type": "code",
   "execution_count": 37,
   "metadata": {},
   "outputs": [
    {
     "output_type": "stream",
     "name": "stdout",
     "text": [
      "[10, 20, 30, 40, 50]\n"
     ]
    }
   ],
   "source": [
    "##### BUBBLE SORT #############\n",
    "x = [10,20,50,40,30]\n",
    "for j in range(len(x)-1):          ##or len(x)\n",
    "    #print(j,end=' ')\n",
    "    for i in range(len(x)-1):\n",
    "        #print(i)\n",
    "        if x[i] > x[i+1]:                   ##### change to < for desc\n",
    "            x[i],x[i+1] = x[i+1],x[i]\n",
    "print(x)"
   ]
  },
  {
   "cell_type": "code",
   "execution_count": 36,
   "metadata": {},
   "outputs": [
    {
     "output_type": "stream",
     "name": "stdout",
     "text": [
      "[21, 23, 45, 54, 67]\n"
     ]
    }
   ],
   "source": [
    "################# INSERTION SORT #####################\n",
    "alist = [23,67,54,21,45]\n",
    "for i in range(1, len(alist)):\n",
    "    temp = alist[i]\n",
    "    j = i - 1\n",
    "    while (j >= 0 and temp < alist[j]):       ##### change to > for desc\n",
    "        alist[j + 1] = alist[j]\n",
    "        j = j - 1\n",
    "    alist[j + 1] = temp\n",
    "print(alist)"
   ]
  },
  {
   "cell_type": "code",
   "execution_count": 59,
   "metadata": {},
   "outputs": [
    {
     "output_type": "stream",
     "name": "stdout",
     "text": [
      "[23, 435, 23]\n[345, 324, 324]\n[234, 3242, 657]\n"
     ]
    }
   ],
   "source": [
    "d1 = {1:[23,435,23],2:[345,324,324]}\n",
    "d1[3] = [234,3242,657]\n",
    "#del d1[1]\n",
    "#print(d1)\n",
    "#print(d1[2])\n",
    "for a in d1.keys():\n",
    "    print(d1[a])"
   ]
  },
  {
   "cell_type": "code",
   "execution_count": 61,
   "metadata": {},
   "outputs": [
    {
     "output_type": "stream",
     "name": "stdout",
     "text": [
      "('dsf', '23324', '324')\n"
     ]
    }
   ],
   "source": [
    "t = ('dsf','23324','324')\n",
    "print(t)"
   ]
  },
  {
   "cell_type": "code",
   "execution_count": 62,
   "metadata": {},
   "outputs": [],
   "source": [
    "#1 + 1/1! + 1/2! ....... 1/n!"
   ]
  },
  {
   "cell_type": "code",
   "execution_count": 63,
   "metadata": {},
   "outputs": [
    {
     "output_type": "execute_result",
     "data": {
      "text/plain": [
       "'    *\\n      * *\\n     * * *\\n      * *\\n       *         '"
      ]
     },
     "metadata": {},
     "execution_count": 63
    }
   ],
   "source": [
    "'''    *\n",
    "      * *\n",
    "     * * *\n",
    "      * *\n",
    "       *         '''"
   ]
  },
  {
   "cell_type": "code",
   "execution_count": 65,
   "metadata": {},
   "outputs": [
    {
     "output_type": "stream",
     "name": "stdout",
     "text": [
      "Sum of all elements in given list:  75\n"
     ]
    }
   ],
   "source": [
    "total = 0\n",
    "list1 = [11, 5, 17, 18, 24] \n",
    "\n",
    "for ele in range(0, len(list1)):\n",
    "    total = total + list1[ele]\n",
    "\n",
    "print(\"Sum of all elements in given list: \", total)"
   ]
  },
  {
   "cell_type": "code",
   "execution_count": 1,
   "metadata": {},
   "outputs": [
    {
     "output_type": "stream",
     "name": "stdout",
     "text": [
      "asad\na\n$s$d\nas$d\n"
     ]
    }
   ],
   "source": [
    "a = input(\"\")\n",
    "print(a)\n",
    "c = a[0]\n",
    "print(c)\n",
    "a = a.replace(c, \"$\")\n",
    "print(a)\n",
    "a = c + a[1:]\n",
    "print(a)"
   ]
  },
  {
   "cell_type": "code",
   "execution_count": 8,
   "metadata": {},
   "outputs": [
    {
     "output_type": "stream",
     "name": "stdout",
     "text": [
      "Name\nSun\nSubject(keys) \t Marks(values)\n  1 \t\t 40\n  2 \t\t 30\n  3 \t\t 45\n\nName\nRyn\nSubject(keys) \t Marks(values)\n  1 \t\t 46\n  2 \t\t 80\n  3 \t\t 25\n\nName\nZeb\nSubject(keys) \t Marks(values)\n  1 \t\t 90\n  2 \t\t 89\n  3 \t\t 41\n\n"
     ]
    }
   ],
   "source": [
    "######### NESTED DICTIONARY #######################\n",
    "d1 = {1:40, 2:30, 3:45}\n",
    "d2 = {1:46, 2:80, 3:25}\n",
    "d3 = {1:90, 2:89, 3:41}\n",
    "d4 = {\"Sun\":d1, \"Ryn\":d2, \"Zeb\":d3}\n",
    "for x in d4.keys():\n",
    "    print(\"Name\")\n",
    "    print(x)\n",
    "    print(\"Subject(keys)\",'\\t',\"Marks(values)\")\n",
    "    for y in d4[x].keys():\n",
    "        print(\" \",y,'\\t\\t', d4[x][y])\n",
    "    print()"
   ]
  },
  {
   "cell_type": "code",
   "execution_count": 26,
   "metadata": {},
   "outputs": [
    {
     "output_type": "execute_result",
     "data": {
      "text/plain": [
       "('merc', 'bmw', 'rolls', 'ghh')"
      ]
     },
     "metadata": {},
     "execution_count": 26
    }
   ],
   "source": [
    "f = ('merc','bmw','rolls')\n",
    "g = ('ghh',)\n",
    "f+g"
   ]
  },
  {
   "cell_type": "code",
   "execution_count": 34,
   "metadata": {},
   "outputs": [
    {
     "output_type": "stream",
     "name": "stdout",
     "text": [
      "Value three Exists at  3\n"
     ]
    }
   ],
   "source": [
    "d1 = {1:'one',2:'two',3:'three'}\n",
    "val = input(\"\")\n",
    "print(\"Value\",val,end = ' ')\n",
    "for k in d1.keys():\n",
    "    if d1[k] == val:\n",
    "        print(\"Exists at \", k)\n",
    "        break\n",
    "else:\n",
    "    print(\"NOT FOUND\")"
   ]
  },
  {
   "cell_type": "code",
   "execution_count": 50,
   "metadata": {},
   "outputs": [
    {
     "output_type": "stream",
     "name": "stdout",
     "text": [
      "hElLo\n"
     ]
    }
   ],
   "source": [
    "########## CAPATILIZE EVERY OTHER LETTER #############\n",
    "name = input(\"enter the word - \")\n",
    "n = len(name)\n",
    "g = \"\"\n",
    "for i in range(0,n,2):\n",
    "    g += name[i]\n",
    "    if i < (n-1):\n",
    "        g += name[i+1].upper()     \n",
    "print(g)"
   ]
  },
  {
   "cell_type": "code",
   "execution_count": 3,
   "metadata": {},
   "outputs": [
    {
     "output_type": "stream",
     "name": "stdout",
     "text": [
      "[3, [4, [5]]]\n"
     ]
    }
   ],
   "source": [
    "L = [1,[2,[3,[4,[5]]]]]\n",
    "print(L[1][1])"
   ]
  },
  {
   "cell_type": "code",
   "execution_count": 8,
   "metadata": {},
   "outputs": [
    {
     "output_type": "stream",
     "name": "stdout",
     "text": [
      "False\n4\n"
     ]
    }
   ],
   "source": [
    "t1 = (1,2,3,4)\n",
    "t2 = (1,2,3,4)\n",
    "print(t1<t2)\n",
    "print(len(t2))"
   ]
  },
  {
   "cell_type": "code",
   "execution_count": 9,
   "metadata": {},
   "outputs": [
    {
     "output_type": "stream",
     "name": "stdout",
     "text": [
      "2\n"
     ]
    }
   ],
   "source": [
    "print('ccdcddcd'.find('dcd'))"
   ]
  },
  {
   "cell_type": "code",
   "execution_count": 13,
   "metadata": {},
   "outputs": [],
   "source": [
    "Total = 1"
   ]
  },
  {
   "cell_type": "code",
   "execution_count": 19,
   "metadata": {},
   "outputs": [
    {
     "output_type": "stream",
     "name": "stdout",
     "text": [
      "2\nTrue\n333\n([1, 2, '3'], 's', 3, 4, 6)\nteapots\n"
     ]
    }
   ],
   "source": [
    "T1 = ('teapot',[1,2,'3'],'s',(3,4,6),'book',10)\n",
    "print(T1[1][1])\n",
    "print(50 not in T1)\n",
    "print(T1[1][2]*3)\n",
    "print(T1[-5:-3]+T1[3])\n",
    "print(T1[0]+T1[2])"
   ]
  },
  {
   "cell_type": "code",
   "execution_count": 1,
   "metadata": {},
   "outputs": [
    {
     "output_type": "stream",
     "name": "stdout",
     "text": [
      "[1, 3, 6, 3, 5, 4]\n"
     ]
    }
   ],
   "source": [
    "L = [1,2,2,2,3,2,6,3,5,4]\n",
    "n = 2 \n",
    "i = 0\n",
    "ls = len(L)\n",
    "while i<ls:\n",
    "    if L[i] == n:\n",
    "        L.remove(L[i])\n",
    "        ls = ls - 1\n",
    "        continue\n",
    "    i= i+1\n",
    "print(L)"
   ]
  },
  {
   "cell_type": "code",
   "execution_count": 2,
   "metadata": {},
   "outputs": [
    {
     "output_type": "stream",
     "name": "stdout",
     "text": [
      "Or ShakEsperE\nXShaEspe\n"
     ]
    }
   ],
   "source": [
    "poet = 'ShakEsperE'\n",
    "L = len(poet)\n",
    "R = ''\n",
    "print(\"Or\",poet)\n",
    "for i in range(L):\n",
    "    if poet[i].islower():\n",
    "        R+=poet[i-1]\n",
    "    elif poet[i].isupper():\n",
    "        if poet[i] == 'S':\n",
    "            R+=\"X\"\n",
    "    elif poet[i]=='E':\n",
    "        R+=poet[i-1].upper()\n",
    "    else:\n",
    "        R+chr(ord(poet[i]-1))\n",
    "print(R)"
   ]
  },
  {
   "cell_type": "code",
   "execution_count": null,
   "metadata": {},
   "outputs": [],
   "source": [
    "number = 250\n",
    "while number<=1000:\n",
    "    print(\"hello\")\n",
    "    if number>=750:\n",
    "        print(number)\n",
    "        #break\n",
    "    else:\n",
    "        print(number*2)\n",
    "        number = number+50"
   ]
  },
  {
   "cell_type": "code",
   "execution_count": 41,
   "metadata": {},
   "outputs": [
    {
     "output_type": "stream",
     "name": "stdout",
     "text": [
      "COUNT OF IS, UP, TO IS =  1\n"
     ]
    }
   ],
   "source": [
    "f = input(\"Enter sentence\")\n",
    "j = f.split()\n",
    "j = list(j)\n",
    "\n",
    "L = ['IS','UP','TO']\n",
    "count = 0\n",
    "\n",
    "for ch in j:\n",
    "    if ch in L:\n",
    "        count+=1\n",
    "print(\"COUNT OF IS, UP, TO IS = \",count)\n",
    "        "
   ]
  },
  {
   "cell_type": "code",
   "execution_count": 49,
   "metadata": {},
   "outputs": [
    {
     "output_type": "stream",
     "name": "stdout",
     "text": [
      "Binary Equivalent is: \n1 1 1 1 0 1 1 "
     ]
    }
   ],
   "source": [
    "n=int(input(\"Enter a number: \"))\n",
    "a=[]\n",
    "while(n>0):\n",
    "    dig=n%2\n",
    "    a.append(dig)\n",
    "    n=n//2\n",
    "a.reverse()\n",
    "print(\"Binary Equivalent is: \")\n",
    "for i in a:\n",
    "    print(i,end=\" \")"
   ]
  },
  {
   "cell_type": "code",
   "execution_count": 58,
   "metadata": {},
   "outputs": [
    {
     "output_type": "stream",
     "name": "stdout",
     "text": [
      "['Abb', 'hello', 'parv']\n"
     ]
    }
   ],
   "source": [
    "A = ['hello','parv','Abb']\n",
    "for i in range(len(A)):\n",
    "    min_idx = i \n",
    "    for j in range(i+1, len(A)): \n",
    "        if A[min_idx] > A[j]: \n",
    "            min_idx = j\n",
    "    A[i], A[min_idx] = A[min_idx], A[i]\n",
    "print(A)"
   ]
  },
  {
   "cell_type": "code",
   "execution_count": null,
   "metadata": {},
   "outputs": [],
   "source": []
  }
 ]
}
